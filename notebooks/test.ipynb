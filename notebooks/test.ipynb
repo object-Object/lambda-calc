{
 "cells": [
  {
   "cell_type": "code",
   "execution_count": 1,
   "metadata": {},
   "outputs": [],
   "source": [
    "%load_ext autoreload\n",
    "%autoreload complete"
   ]
  },
  {
   "cell_type": "code",
   "execution_count": 2,
   "metadata": {},
   "outputs": [],
   "source": [
    "import logging\n",
    "\n",
    "logging.basicConfig()"
   ]
  },
  {
   "cell_type": "code",
   "execution_count": 3,
   "metadata": {},
   "outputs": [],
   "source": [
    "import rich\n",
    "\n",
    "from lambda_calc.ast import display_with_names\n",
    "from lambda_calc.diagram import LambdaDiagram\n",
    "from lambda_calc.parser import parse_diagram"
   ]
  },
  {
   "cell_type": "code",
   "execution_count": 4,
   "metadata": {},
   "outputs": [
    {
     "name": "stdout",
     "output_type": "stream",
     "text": [
      "#######################\n",
      " #\n",
      "#######################\n",
      " #           #\n",
      "#######################\n",
      " #           #   #\n",
      " #  ########### ### ###\n",
      " #       #   #   #   #\n",
      " #  ###########  #   #\n",
      " #   #   #   #   #   #\n",
      " #   #   #####   #   #\n",
      " #   #   #       #   #\n",
      " #   #####       #   #\n",
      " #   #           #   #\n",
      " #####           #   #\n",
      " #               #   #\n",
      " #################   #\n",
      " #                   #\n",
      " #####################\n",
      " #\n",
      " #\n"
     ]
    }
   ],
   "source": [
    "diagram = LambdaDiagram.from_str(\n",
    "    \"\"\"\\\n",
    "    #######################\n",
    "     #\n",
    "    #######################\n",
    "     #           #\n",
    "    #######################\n",
    "     #           #   #\n",
    "     #  ########### ### ###\n",
    "     #       #   #   #   #\n",
    "     #  ###########  #   #\n",
    "     #   #   #   #   #   #\n",
    "     #   #   #####   #   #\n",
    "     #   #   #       #   #\n",
    "     #   #####       #   #\n",
    "     #   #           #   #\n",
    "     #####           #   #\n",
    "     #               #   #\n",
    "     #################   #\n",
    "     #                   #\n",
    "     #####################\n",
    "     #\n",
    "     #\n",
    "    \"\"\"\n",
    ")\n",
    "diagram"
   ]
  },
  {
   "cell_type": "code",
   "execution_count": 5,
   "metadata": {},
   "outputs": [
    {
     "name": "stdout",
     "output_type": "stream",
     "text": [
      "(λn.(λf.(λx.(((n(λg.(λh.(h(gf)))))(λg.x))(λg.g)))))\n"
     ]
    }
   ],
   "source": [
    "ast = parse_diagram(diagram)\n",
    "print(display_with_names(ast, \"nfxgh\"))"
   ]
  },
  {
   "cell_type": "code",
   "execution_count": 6,
   "metadata": {},
   "outputs": [
    {
     "data": {
      "text/html": [
       "<pre style=\"white-space:pre;overflow-x:auto;line-height:normal;font-family:Menlo,'DejaVu Sans Mono',consolas,'Courier New',monospace\"><span style=\"color: #800080; text-decoration-color: #800080; font-weight: bold\">Abstraction</span><span style=\"font-weight: bold\">(</span>\n",
       "    <span style=\"color: #808000; text-decoration-color: #808000\">body</span>=<span style=\"color: #800080; text-decoration-color: #800080; font-weight: bold\">Abstraction</span><span style=\"font-weight: bold\">(</span>\n",
       "        <span style=\"color: #808000; text-decoration-color: #808000\">body</span>=<span style=\"color: #800080; text-decoration-color: #800080; font-weight: bold\">Abstraction</span><span style=\"font-weight: bold\">(</span>\n",
       "            <span style=\"color: #808000; text-decoration-color: #808000\">body</span>=<span style=\"color: #800080; text-decoration-color: #800080; font-weight: bold\">Application</span><span style=\"font-weight: bold\">(</span>\n",
       "                <span style=\"color: #808000; text-decoration-color: #808000\">function</span>=<span style=\"color: #800080; text-decoration-color: #800080; font-weight: bold\">Application</span><span style=\"font-weight: bold\">(</span>\n",
       "                    <span style=\"color: #808000; text-decoration-color: #808000\">function</span>=<span style=\"color: #800080; text-decoration-color: #800080; font-weight: bold\">Application</span><span style=\"font-weight: bold\">(</span>\n",
       "                        <span style=\"color: #808000; text-decoration-color: #808000\">function</span>=<span style=\"color: #800080; text-decoration-color: #800080; font-weight: bold\">Variable</span><span style=\"font-weight: bold\">(</span><span style=\"color: #808000; text-decoration-color: #808000\">index</span>=<span style=\"color: #008080; text-decoration-color: #008080; font-weight: bold\">3</span><span style=\"font-weight: bold\">)</span>,\n",
       "                        <span style=\"color: #808000; text-decoration-color: #808000\">argument</span>=<span style=\"color: #800080; text-decoration-color: #800080; font-weight: bold\">Abstraction</span><span style=\"font-weight: bold\">(</span>\n",
       "                            <span style=\"color: #808000; text-decoration-color: #808000\">body</span>=<span style=\"color: #800080; text-decoration-color: #800080; font-weight: bold\">Abstraction</span><span style=\"font-weight: bold\">(</span>\n",
       "                                <span style=\"color: #808000; text-decoration-color: #808000\">body</span>=<span style=\"color: #800080; text-decoration-color: #800080; font-weight: bold\">Application</span><span style=\"font-weight: bold\">(</span>\n",
       "                                    <span style=\"color: #808000; text-decoration-color: #808000\">function</span>=<span style=\"color: #800080; text-decoration-color: #800080; font-weight: bold\">Variable</span><span style=\"font-weight: bold\">(</span><span style=\"color: #808000; text-decoration-color: #808000\">index</span>=<span style=\"color: #008080; text-decoration-color: #008080; font-weight: bold\">1</span><span style=\"font-weight: bold\">)</span>,\n",
       "                                    <span style=\"color: #808000; text-decoration-color: #808000\">argument</span>=<span style=\"color: #800080; text-decoration-color: #800080; font-weight: bold\">Application</span><span style=\"font-weight: bold\">(</span><span style=\"color: #808000; text-decoration-color: #808000\">function</span>=<span style=\"color: #800080; text-decoration-color: #800080; font-weight: bold\">Variable</span><span style=\"font-weight: bold\">(</span><span style=\"color: #808000; text-decoration-color: #808000\">index</span>=<span style=\"color: #008080; text-decoration-color: #008080; font-weight: bold\">2</span><span style=\"font-weight: bold\">)</span>, <span style=\"color: #808000; text-decoration-color: #808000\">argument</span>=<span style=\"color: #800080; text-decoration-color: #800080; font-weight: bold\">Variable</span><span style=\"font-weight: bold\">(</span><span style=\"color: #808000; text-decoration-color: #808000\">index</span>=<span style=\"color: #008080; text-decoration-color: #008080; font-weight: bold\">4</span><span style=\"font-weight: bold\">))</span>\n",
       "                                <span style=\"font-weight: bold\">)</span>\n",
       "                            <span style=\"font-weight: bold\">)</span>\n",
       "                        <span style=\"font-weight: bold\">)</span>\n",
       "                    <span style=\"font-weight: bold\">)</span>,\n",
       "                    <span style=\"color: #808000; text-decoration-color: #808000\">argument</span>=<span style=\"color: #800080; text-decoration-color: #800080; font-weight: bold\">Abstraction</span><span style=\"font-weight: bold\">(</span><span style=\"color: #808000; text-decoration-color: #808000\">body</span>=<span style=\"color: #800080; text-decoration-color: #800080; font-weight: bold\">Variable</span><span style=\"font-weight: bold\">(</span><span style=\"color: #808000; text-decoration-color: #808000\">index</span>=<span style=\"color: #008080; text-decoration-color: #008080; font-weight: bold\">2</span><span style=\"font-weight: bold\">))</span>\n",
       "                <span style=\"font-weight: bold\">)</span>,\n",
       "                <span style=\"color: #808000; text-decoration-color: #808000\">argument</span>=<span style=\"color: #800080; text-decoration-color: #800080; font-weight: bold\">Abstraction</span><span style=\"font-weight: bold\">(</span><span style=\"color: #808000; text-decoration-color: #808000\">body</span>=<span style=\"color: #800080; text-decoration-color: #800080; font-weight: bold\">Variable</span><span style=\"font-weight: bold\">(</span><span style=\"color: #808000; text-decoration-color: #808000\">index</span>=<span style=\"color: #008080; text-decoration-color: #008080; font-weight: bold\">1</span><span style=\"font-weight: bold\">))</span>\n",
       "            <span style=\"font-weight: bold\">)</span>\n",
       "        <span style=\"font-weight: bold\">)</span>\n",
       "    <span style=\"font-weight: bold\">)</span>\n",
       "<span style=\"font-weight: bold\">)</span>\n",
       "</pre>\n"
      ],
      "text/plain": [
       "\u001b[1;35mAbstraction\u001b[0m\u001b[1m(\u001b[0m\n",
       "    \u001b[33mbody\u001b[0m=\u001b[1;35mAbstraction\u001b[0m\u001b[1m(\u001b[0m\n",
       "        \u001b[33mbody\u001b[0m=\u001b[1;35mAbstraction\u001b[0m\u001b[1m(\u001b[0m\n",
       "            \u001b[33mbody\u001b[0m=\u001b[1;35mApplication\u001b[0m\u001b[1m(\u001b[0m\n",
       "                \u001b[33mfunction\u001b[0m=\u001b[1;35mApplication\u001b[0m\u001b[1m(\u001b[0m\n",
       "                    \u001b[33mfunction\u001b[0m=\u001b[1;35mApplication\u001b[0m\u001b[1m(\u001b[0m\n",
       "                        \u001b[33mfunction\u001b[0m=\u001b[1;35mVariable\u001b[0m\u001b[1m(\u001b[0m\u001b[33mindex\u001b[0m=\u001b[1;36m3\u001b[0m\u001b[1m)\u001b[0m,\n",
       "                        \u001b[33margument\u001b[0m=\u001b[1;35mAbstraction\u001b[0m\u001b[1m(\u001b[0m\n",
       "                            \u001b[33mbody\u001b[0m=\u001b[1;35mAbstraction\u001b[0m\u001b[1m(\u001b[0m\n",
       "                                \u001b[33mbody\u001b[0m=\u001b[1;35mApplication\u001b[0m\u001b[1m(\u001b[0m\n",
       "                                    \u001b[33mfunction\u001b[0m=\u001b[1;35mVariable\u001b[0m\u001b[1m(\u001b[0m\u001b[33mindex\u001b[0m=\u001b[1;36m1\u001b[0m\u001b[1m)\u001b[0m,\n",
       "                                    \u001b[33margument\u001b[0m=\u001b[1;35mApplication\u001b[0m\u001b[1m(\u001b[0m\u001b[33mfunction\u001b[0m=\u001b[1;35mVariable\u001b[0m\u001b[1m(\u001b[0m\u001b[33mindex\u001b[0m=\u001b[1;36m2\u001b[0m\u001b[1m)\u001b[0m, \u001b[33margument\u001b[0m=\u001b[1;35mVariable\u001b[0m\u001b[1m(\u001b[0m\u001b[33mindex\u001b[0m=\u001b[1;36m4\u001b[0m\u001b[1m)\u001b[0m\u001b[1m)\u001b[0m\n",
       "                                \u001b[1m)\u001b[0m\n",
       "                            \u001b[1m)\u001b[0m\n",
       "                        \u001b[1m)\u001b[0m\n",
       "                    \u001b[1m)\u001b[0m,\n",
       "                    \u001b[33margument\u001b[0m=\u001b[1;35mAbstraction\u001b[0m\u001b[1m(\u001b[0m\u001b[33mbody\u001b[0m=\u001b[1;35mVariable\u001b[0m\u001b[1m(\u001b[0m\u001b[33mindex\u001b[0m=\u001b[1;36m2\u001b[0m\u001b[1m)\u001b[0m\u001b[1m)\u001b[0m\n",
       "                \u001b[1m)\u001b[0m,\n",
       "                \u001b[33margument\u001b[0m=\u001b[1;35mAbstraction\u001b[0m\u001b[1m(\u001b[0m\u001b[33mbody\u001b[0m=\u001b[1;35mVariable\u001b[0m\u001b[1m(\u001b[0m\u001b[33mindex\u001b[0m=\u001b[1;36m1\u001b[0m\u001b[1m)\u001b[0m\u001b[1m)\u001b[0m\n",
       "            \u001b[1m)\u001b[0m\n",
       "        \u001b[1m)\u001b[0m\n",
       "    \u001b[1m)\u001b[0m\n",
       "\u001b[1m)\u001b[0m\n"
      ]
     },
     "metadata": {},
     "output_type": "display_data"
    }
   ],
   "source": [
    "rich.print(ast)"
   ]
  }
 ],
 "metadata": {
  "kernelspec": {
   "display_name": ".venv",
   "language": "python",
   "name": "python3"
  },
  "language_info": {
   "codemirror_mode": {
    "name": "ipython",
    "version": 3
   },
   "file_extension": ".py",
   "mimetype": "text/x-python",
   "name": "python",
   "nbconvert_exporter": "python",
   "pygments_lexer": "ipython3",
   "version": "3.12.9"
  }
 },
 "nbformat": 4,
 "nbformat_minor": 2
}
